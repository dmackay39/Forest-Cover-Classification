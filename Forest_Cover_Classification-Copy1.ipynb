{
 "cells": [
  {
   "cell_type": "code",
   "execution_count": 109,
   "metadata": {},
   "outputs": [],
   "source": [
    "import numpy as np\n",
    "import pandas as pd\n",
    "import matplotlib.pyplot as plt\n",
    "from sklearn.preprocessing import StandardScaler\n",
    "from sklearn.preprocessing import LabelEncoder\n",
    "from sklearn.model_selection import train_test_split\n",
    "from sklearn.neighbors import KNeighborsClassifier\n",
    "from sklearn.ensemble import RandomForestClassifier\n",
    "from sklearn.metrics import classification_report, confusion_matrix, ConfusionMatrixDisplay\n",
    "#Important imports"
   ]
  },
  {
   "cell_type": "code",
   "execution_count": 2,
   "metadata": {},
   "outputs": [],
   "source": [
    "data = pd.read_csv(\"/Data/cover_data.csv\")"
   ]
  },
  {
   "cell_type": "code",
   "execution_count": 8,
   "metadata": {},
   "outputs": [
    {
     "name": "stdout",
     "output_type": "stream",
     "text": [
      "           Elevation         Aspect          Slope  \\\n",
      "count  581012.000000  581012.000000  581012.000000   \n",
      "mean     2959.365301     155.656807      14.103704   \n",
      "std       279.984734     111.913721       7.488242   \n",
      "min      1859.000000       0.000000       0.000000   \n",
      "25%      2809.000000      58.000000       9.000000   \n",
      "50%      2996.000000     127.000000      13.000000   \n",
      "75%      3163.000000     260.000000      18.000000   \n",
      "max      3858.000000     360.000000      66.000000   \n",
      "\n",
      "       Horizontal_Distance_To_Hydrology  Vertical_Distance_To_Hydrology  \\\n",
      "count                     581012.000000                   581012.000000   \n",
      "mean                         269.428217                       46.418855   \n",
      "std                          212.549356                       58.295232   \n",
      "min                            0.000000                     -173.000000   \n",
      "25%                          108.000000                        7.000000   \n",
      "50%                          218.000000                       30.000000   \n",
      "75%                          384.000000                       69.000000   \n",
      "max                         1397.000000                      601.000000   \n",
      "\n",
      "       Horizontal_Distance_To_Roadways  Hillshade_9am  Hillshade_Noon  \\\n",
      "count                    581012.000000  581012.000000   581012.000000   \n",
      "mean                       2350.146611     212.146049      223.318716   \n",
      "std                        1559.254870      26.769889       19.768697   \n",
      "min                           0.000000       0.000000        0.000000   \n",
      "25%                        1106.000000     198.000000      213.000000   \n",
      "50%                        1997.000000     218.000000      226.000000   \n",
      "75%                        3328.000000     231.000000      237.000000   \n",
      "max                        7117.000000     254.000000      254.000000   \n",
      "\n",
      "       Hillshade_3pm  Horizontal_Distance_To_Fire_Points  ...    Soil_Type32  \\\n",
      "count  581012.000000                       581012.000000  ...  581012.000000   \n",
      "mean      142.528263                         1980.291226  ...       0.090392   \n",
      "std        38.274529                         1324.195210  ...       0.286743   \n",
      "min         0.000000                            0.000000  ...       0.000000   \n",
      "25%       119.000000                         1024.000000  ...       0.000000   \n",
      "50%       143.000000                         1710.000000  ...       0.000000   \n",
      "75%       168.000000                         2550.000000  ...       0.000000   \n",
      "max       254.000000                         7173.000000  ...       1.000000   \n",
      "\n",
      "         Soil_Type33    Soil_Type34    Soil_Type35    Soil_Type36  \\\n",
      "count  581012.000000  581012.000000  581012.000000  581012.000000   \n",
      "mean        0.077716       0.002773       0.003255       0.000205   \n",
      "std         0.267725       0.052584       0.056957       0.014310   \n",
      "min         0.000000       0.000000       0.000000       0.000000   \n",
      "25%         0.000000       0.000000       0.000000       0.000000   \n",
      "50%         0.000000       0.000000       0.000000       0.000000   \n",
      "75%         0.000000       0.000000       0.000000       0.000000   \n",
      "max         1.000000       1.000000       1.000000       1.000000   \n",
      "\n",
      "         Soil_Type37    Soil_Type38    Soil_Type39    Soil_Type40  \\\n",
      "count  581012.000000  581012.000000  581012.000000  581012.000000   \n",
      "mean        0.000513       0.026803       0.023762       0.015060   \n",
      "std         0.022641       0.161508       0.152307       0.121791   \n",
      "min         0.000000       0.000000       0.000000       0.000000   \n",
      "25%         0.000000       0.000000       0.000000       0.000000   \n",
      "50%         0.000000       0.000000       0.000000       0.000000   \n",
      "75%         0.000000       0.000000       0.000000       0.000000   \n",
      "max         1.000000       1.000000       1.000000       1.000000   \n",
      "\n",
      "               class  \n",
      "count  581012.000000  \n",
      "mean        2.051471  \n",
      "std         1.396504  \n",
      "min         1.000000  \n",
      "25%         1.000000  \n",
      "50%         2.000000  \n",
      "75%         2.000000  \n",
      "max         7.000000  \n",
      "\n",
      "[8 rows x 55 columns] Elevation                             int64\n",
      "Aspect                                int64\n",
      "Slope                                 int64\n",
      "Horizontal_Distance_To_Hydrology      int64\n",
      "Vertical_Distance_To_Hydrology        int64\n",
      "Horizontal_Distance_To_Roadways       int64\n",
      "Hillshade_9am                         int64\n",
      "Hillshade_Noon                        int64\n",
      "Hillshade_3pm                         int64\n",
      "Horizontal_Distance_To_Fire_Points    int64\n",
      "Wilderness_Area1                      int64\n",
      "Wilderness_Area2                      int64\n",
      "Wilderness_Area3                      int64\n",
      "Wilderness_Area4                      int64\n",
      "Soil_Type1                            int64\n",
      "Soil_Type2                            int64\n",
      "Soil_Type3                            int64\n",
      "Soil_Type4                            int64\n",
      "Soil_Type5                            int64\n",
      "Soil_Type6                            int64\n",
      "Soil_Type7                            int64\n",
      "Soil_Type8                            int64\n",
      "Soil_Type9                            int64\n",
      "Soil_Type10                           int64\n",
      "Soil_Type11                           int64\n",
      "Soil_Type12                           int64\n",
      "Soil_Type13                           int64\n",
      "Soil_Type14                           int64\n",
      "Soil_Type15                           int64\n",
      "Soil_Type16                           int64\n",
      "Soil_Type17                           int64\n",
      "Soil_Type18                           int64\n",
      "Soil_Type19                           int64\n",
      "Soil_Type20                           int64\n",
      "Soil_Type21                           int64\n",
      "Soil_Type22                           int64\n",
      "Soil_Type23                           int64\n",
      "Soil_Type24                           int64\n",
      "Soil_Type25                           int64\n",
      "Soil_Type26                           int64\n",
      "Soil_Type27                           int64\n",
      "Soil_Type28                           int64\n",
      "Soil_Type29                           int64\n",
      "Soil_Type30                           int64\n",
      "Soil_Type31                           int64\n",
      "Soil_Type32                           int64\n",
      "Soil_Type33                           int64\n",
      "Soil_Type34                           int64\n",
      "Soil_Type35                           int64\n",
      "Soil_Type36                           int64\n",
      "Soil_Type37                           int64\n",
      "Soil_Type38                           int64\n",
      "Soil_Type39                           int64\n",
      "Soil_Type40                           int64\n",
      "class                                 int64\n",
      "dtype: object    Elevation  Aspect  Slope  Horizontal_Distance_To_Hydrology  \\\n",
      "0       2596      51      3                               258   \n",
      "1       2590      56      2                               212   \n",
      "2       2804     139      9                               268   \n",
      "3       2785     155     18                               242   \n",
      "4       2595      45      2                               153   \n",
      "\n",
      "   Vertical_Distance_To_Hydrology  Horizontal_Distance_To_Roadways  \\\n",
      "0                               0                              510   \n",
      "1                              -6                              390   \n",
      "2                              65                             3180   \n",
      "3                             118                             3090   \n",
      "4                              -1                              391   \n",
      "\n",
      "   Hillshade_9am  Hillshade_Noon  Hillshade_3pm  \\\n",
      "0            221             232            148   \n",
      "1            220             235            151   \n",
      "2            234             238            135   \n",
      "3            238             238            122   \n",
      "4            220             234            150   \n",
      "\n",
      "   Horizontal_Distance_To_Fire_Points  ...  Soil_Type32  Soil_Type33  \\\n",
      "0                                6279  ...            0            0   \n",
      "1                                6225  ...            0            0   \n",
      "2                                6121  ...            0            0   \n",
      "3                                6211  ...            0            0   \n",
      "4                                6172  ...            0            0   \n",
      "\n",
      "   Soil_Type34  Soil_Type35  Soil_Type36  Soil_Type37  Soil_Type38  \\\n",
      "0            0            0            0            0            0   \n",
      "1            0            0            0            0            0   \n",
      "2            0            0            0            0            0   \n",
      "3            0            0            0            0            0   \n",
      "4            0            0            0            0            0   \n",
      "\n",
      "   Soil_Type39  Soil_Type40  class  \n",
      "0            0            0      5  \n",
      "1            0            0      5  \n",
      "2            0            0      2  \n",
      "3            0            0      2  \n",
      "4            0            0      5  \n",
      "\n",
      "[5 rows x 55 columns]\n"
     ]
    }
   ],
   "source": [
    "print(data.describe(),data.dtypes,data.head())\n",
    "#In this we see statistics about the numerical data and a dtypes call to make sure there are no NaN entries."
   ]
  },
  {
   "cell_type": "code",
   "execution_count": 10,
   "metadata": {},
   "outputs": [
    {
     "name": "stdout",
     "output_type": "stream",
     "text": [
      "        Elevation  Aspect  Slope  Horizontal_Distance_To_Hydrology  \\\n",
      "0           False   False  False                             False   \n",
      "1           False   False  False                             False   \n",
      "2           False   False  False                             False   \n",
      "3           False   False  False                             False   \n",
      "4           False   False  False                             False   \n",
      "...           ...     ...    ...                               ...   \n",
      "581007      False   False  False                             False   \n",
      "581008      False   False  False                             False   \n",
      "581009      False   False  False                             False   \n",
      "581010      False   False  False                             False   \n",
      "581011      False   False  False                             False   \n",
      "\n",
      "        Vertical_Distance_To_Hydrology  Horizontal_Distance_To_Roadways  \\\n",
      "0                                False                            False   \n",
      "1                                False                            False   \n",
      "2                                False                            False   \n",
      "3                                False                            False   \n",
      "4                                False                            False   \n",
      "...                                ...                              ...   \n",
      "581007                           False                            False   \n",
      "581008                           False                            False   \n",
      "581009                           False                            False   \n",
      "581010                           False                            False   \n",
      "581011                           False                            False   \n",
      "\n",
      "        Hillshade_9am  Hillshade_Noon  Hillshade_3pm  \\\n",
      "0               False           False          False   \n",
      "1               False           False          False   \n",
      "2               False           False          False   \n",
      "3               False           False          False   \n",
      "4               False           False          False   \n",
      "...               ...             ...            ...   \n",
      "581007          False           False          False   \n",
      "581008          False           False          False   \n",
      "581009          False           False          False   \n",
      "581010          False           False          False   \n",
      "581011          False           False          False   \n",
      "\n",
      "        Horizontal_Distance_To_Fire_Points  ...  Soil_Type32  Soil_Type33  \\\n",
      "0                                    False  ...        False        False   \n",
      "1                                    False  ...        False        False   \n",
      "2                                    False  ...        False        False   \n",
      "3                                    False  ...        False        False   \n",
      "4                                    False  ...        False        False   \n",
      "...                                    ...  ...          ...          ...   \n",
      "581007                               False  ...        False        False   \n",
      "581008                               False  ...        False        False   \n",
      "581009                               False  ...        False        False   \n",
      "581010                               False  ...        False        False   \n",
      "581011                               False  ...        False        False   \n",
      "\n",
      "        Soil_Type34  Soil_Type35  Soil_Type36  Soil_Type37  Soil_Type38  \\\n",
      "0             False        False        False        False        False   \n",
      "1             False        False        False        False        False   \n",
      "2             False        False        False        False        False   \n",
      "3             False        False        False        False        False   \n",
      "4             False        False        False        False        False   \n",
      "...             ...          ...          ...          ...          ...   \n",
      "581007        False        False        False        False        False   \n",
      "581008        False        False        False        False        False   \n",
      "581009        False        False        False        False        False   \n",
      "581010        False        False        False        False        False   \n",
      "581011        False        False        False        False        False   \n",
      "\n",
      "        Soil_Type39  Soil_Type40  class  \n",
      "0             False        False  False  \n",
      "1             False        False  False  \n",
      "2             False        False  False  \n",
      "3             False        False  False  \n",
      "4             False        False  False  \n",
      "...             ...          ...    ...  \n",
      "581007        False        False  False  \n",
      "581008        False        False  False  \n",
      "581009        False        False  False  \n",
      "581010        False        False  False  \n",
      "581011        False        False  False  \n",
      "\n",
      "[581012 rows x 55 columns]\n"
     ]
    }
   ],
   "source": [
    "print(data.isna())"
   ]
  },
  {
   "cell_type": "code",
   "execution_count": 78,
   "metadata": {},
   "outputs": [
    {
     "name": "stdout",
     "output_type": "stream",
     "text": [
      "Index(['Elevation', 'Aspect', 'Slope', 'Horizontal_Distance_To_Hydrology',\n",
      "       'Vertical_Distance_To_Hydrology', 'Horizontal_Distance_To_Roadways',\n",
      "       'Hillshade_9am', 'Hillshade_Noon', 'Hillshade_3pm',\n",
      "       'Horizontal_Distance_To_Fire_Points'],\n",
      "      dtype='object')\n"
     ]
    }
   ],
   "source": [
    "print(data.columns[0:10])\n",
    "#Selecting columns to normalise"
   ]
  },
  {
   "cell_type": "code",
   "execution_count": 12,
   "metadata": {},
   "outputs": [],
   "source": [
    "le = LabelEncoder()"
   ]
  },
  {
   "cell_type": "code",
   "execution_count": 13,
   "metadata": {},
   "outputs": [],
   "source": [
    "data['labels'] = le.fit_transform(data['class'])\n",
    "#Encodes labels 1-7 as 0-6."
   ]
  },
  {
   "cell_type": "code",
   "execution_count": 16,
   "metadata": {},
   "outputs": [
    {
     "name": "stdout",
     "output_type": "stream",
     "text": [
      "count    581012.000000\n",
      "mean          1.051471\n",
      "std           1.396504\n",
      "min           0.000000\n",
      "25%           0.000000\n",
      "50%           1.000000\n",
      "75%           1.000000\n",
      "max           6.000000\n",
      "Name: labels, dtype: float64\n"
     ]
    }
   ],
   "source": [
    "print(data['labels'].describe())"
   ]
  },
  {
   "cell_type": "code",
   "execution_count": 73,
   "metadata": {},
   "outputs": [
    {
     "name": "stdout",
     "output_type": "stream",
     "text": [
      "[0, 1, 2, 3, 4, 5, 6]\n",
      "[211840, 283301, 35754, 2747, 9493, 17367, 20510]\n"
     ]
    },
    {
     "data": {
      "image/png": "[encoded data removed]",
      "text/plain": [
       "<Figure size 432x288 with 1 Axes>"
      ]
     },
     "metadata": {
      "needs_background": "light"
     },
     "output_type": "display_data"
    }
   ],
   "source": [
    "x = sorted(np.array(data['labels'].unique()))\n",
    "print(x)\n",
    "li = list(data['labels'].value_counts().sort_index())\n",
    "print(li)\n",
    "plt.bar(x,height=li)\n",
    "plt.xlabel(\"Label\")\n",
    "plt.ylabel(\"Occurrence\")\n",
    "plt.show()\n",
    "#Shows the proportions of occurences of each of the labels. 0 and 1 dominate."
   ]
  },
  {
   "cell_type": "code",
   "execution_count": 79,
   "metadata": {},
   "outputs": [],
   "source": [
    "columns_to_transform = data.columns[0:10]"
   ]
  },
  {
   "cell_type": "code",
   "execution_count": 84,
   "metadata": {},
   "outputs": [],
   "source": [
    "std_sclr = StandardScaler()"
   ]
  },
  {
   "cell_type": "code",
   "execution_count": 85,
   "metadata": {},
   "outputs": [],
   "source": [
    "data[columns_to_transform] = std_sclr.fit_transform(data[columns_to_transform])\n",
    "#Here I scale the columns according to Z-score normalisation."
   ]
  },
  {
   "cell_type": "code",
   "execution_count": 93,
   "metadata": {},
   "outputs": [],
   "source": [
    "features = data.drop(columns = ['class','labels'])"
   ]
  },
  {
   "cell_type": "code",
   "execution_count": 94,
   "metadata": {},
   "outputs": [],
   "source": [
    "labels = data['labels']"
   ]
  },
  {
   "cell_type": "code",
   "execution_count": 95,
   "metadata": {},
   "outputs": [],
   "source": [
    "features_train, features_test, labels_train, labels_test = train_test_split(features, labels, test_size=0.2, random_state=42)\n",
    "#Doing a 4:1 train test split."
   ]
  },
  {
   "cell_type": "code",
   "execution_count": 102,
   "metadata": {},
   "outputs": [
    {
     "name": "stdout",
     "output_type": "stream",
     "text": [
      "[0 1 1 ... 1 1 6]\n"
     ]
    }
   ],
   "source": [
    "KNN_model = KNeighborsClassifier(n_neighbors=5)\n",
    "KNN_model.fit(features_train, labels_train)\n",
    "predictions = KNN_model.predict(features_test)\n",
    "print(predictions)\n",
    "#Fitting a K-Nearest Neighbours model to the data."
   ]
  },
  {
   "cell_type": "code",
   "execution_count": 103,
   "metadata": {},
   "outputs": [
    {
     "name": "stdout",
     "output_type": "stream",
     "text": [
      "              precision    recall  f1-score   support\n",
      "\n",
      "           0       0.94      0.92      0.93     42557\n",
      "           1       0.93      0.95      0.94     56500\n",
      "           2       0.90      0.92      0.91      7121\n",
      "           3       0.85      0.73      0.78       526\n",
      "           4       0.84      0.76      0.80      1995\n",
      "           5       0.84      0.81      0.82      3489\n",
      "           6       0.94      0.94      0.94      4015\n",
      "\n",
      "    accuracy                           0.93    116203\n",
      "   macro avg       0.89      0.86      0.87    116203\n",
      "weighted avg       0.93      0.93      0.93    116203\n",
      "\n"
     ]
    }
   ],
   "source": [
    "print(classification_report(labels_test, predictions))"
   ]
  },
  {
   "cell_type": "code",
   "execution_count": 108,
   "metadata": {},
   "outputs": [
    {
     "data": {
      "text/plain": [
       "<sklearn.metrics._plot.confusion_matrix.ConfusionMatrixDisplay at 0x1d033ffe640>"
      ]
     },
     "execution_count": 108,
     "metadata": {},
     "output_type": "execute_result"
    },
    {
     "data": {
      "image/png": "[encoded data removed]",
      "text/plain": [
       "<Figure size 432x288 with 2 Axes>"
      ]
     },
     "metadata": {
      "needs_background": "light"
     },
     "output_type": "display_data"
    }
   ],
   "source": [
    "cm = confusion_matrix(labels_test,predictions, normalize='true')\n",
    "disp = ConfusionMatrixDisplay(cm,display_labels=x)\n",
    "disp.plot()\n",
    "#Confusion matrix and classification report act as the evaluation metrics for the effectiveness of the model."
   ]
  },
  {
   "cell_type": "code",
   "execution_count": 110,
   "metadata": {},
   "outputs": [
    {
     "name": "stdout",
     "output_type": "stream",
     "text": [
      "[0 1 1 ... 1 1 6]\n"
     ]
    }
   ],
   "source": [
    "RF_model = RandomForestClassifier(n_estimators=10)\n",
    "RF_model.fit(features_train,labels_train)\n",
    "RF_predictions = RF_model.predict(features_test)\n",
    "print(RF_predictions)\n",
    "#Here I use a random froest consisting of 10 trees."
   ]
  },
  {
   "cell_type": "code",
   "execution_count": 111,
   "metadata": {},
   "outputs": [
    {
     "name": "stdout",
     "output_type": "stream",
     "text": [
      "              precision    recall  f1-score   support\n",
      "\n",
      "           0       0.94      0.94      0.94     42557\n",
      "           1       0.94      0.95      0.95     56500\n",
      "           2       0.93      0.95      0.94      7121\n",
      "           3       0.90      0.81      0.85       526\n",
      "           4       0.93      0.72      0.82      1995\n",
      "           5       0.92      0.85      0.88      3489\n",
      "           6       0.97      0.93      0.95      4015\n",
      "\n",
      "    accuracy                           0.94    116203\n",
      "   macro avg       0.93      0.88      0.90    116203\n",
      "weighted avg       0.94      0.94      0.94    116203\n",
      "\n"
     ]
    }
   ],
   "source": [
    "print(classification_report(labels_test, RF_predictions))"
   ]
  },
  {
   "cell_type": "code",
   "execution_count": 112,
   "metadata": {},
   "outputs": [
    {
     "data": {
      "text/plain": [
       "<sklearn.metrics._plot.confusion_matrix.ConfusionMatrixDisplay at 0x1d000665cd0>"
      ]
     },
     "execution_count": 112,
     "metadata": {},
     "output_type": "execute_result"
    },
    {
     "data": {
      "image/png": "[encoded data removed]",
      "text/plain": [
       "<Figure size 432x288 with 2 Axes>"
      ]
     },
     "metadata": {
      "needs_background": "light"
     },
     "output_type": "display_data"
    }
   ],
   "source": [
    "cm1 = confusion_matrix(labels_test, RF_predictions,normalize='true')\n",
    "disp1 = ConfusionMatrixDisplay(cm1, display_labels=x)\n",
    "disp1.plot()"
   ]
  },
  {
   "cell_type": "code",
   "execution_count": null,
   "metadata": {},
   "outputs": [],
   "source": [
    "#The random forest has the highest F1-Score out of the tested models."
   ]
  }
 ],
 "metadata": {
  "kernelspec": {
   "display_name": "Python 3",
   "language": "python",
   "name": "python3"
  },
  "language_info": {
   "codemirror_mode": {
    "name": "ipython",
    "version": 3
   },
   "file_extension": ".py",
   "mimetype": "text/x-python",
   "name": "python",
   "nbconvert_exporter": "python",
   "pygments_lexer": "ipython3",
   "version": "3.8.3"
  }
 },
 "nbformat": 4,
 "nbformat_minor": 4
}
