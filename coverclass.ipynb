{
  "nbformat": 4,
  "nbformat_minor": 0,
  "metadata": {
    "colab": {
      "name": "coverclass.ipynb",
      "provenance": [],
      "collapsed_sections": [],
      "toc_visible": true
    },
    "kernelspec": {
      "name": "python3",
      "display_name": "Python 3"
    }
  },
  "cells": [
    {
      "cell_type": "code",
      "metadata": {
        "id": "_sqW1SHOut0D"
      },
      "source": [
        "import pandas as pd\n",
        "import numpy as np\n",
        "import matplotlib.pyplot as plt\n",
        "import tensorflow as tf\n",
        "from tensorflow.keras.models import Sequential\n",
        "from tensorflow.keras import layers\n",
        "from tensorflow.keras.layers import Dense\n",
        "from tensorflow.keras.callbacks import EarlyStopping\n",
        "from tensorflow.keras.optimizers import Adam\n",
        "from sklearn.model_selection import train_test_split\n",
        "from sklearn.preprocessing import StandardScaler\n",
        "from sklearn.compose import ColumnTransformer\n",
        "from sklearn.metrics import classification_report, confusion_matrix"
      ],
      "execution_count": null,
      "outputs": []
    },
    {
      "cell_type": "code",
      "metadata": {
        "colab": {
          "base_uri": "https://localhost:8080/"
        },
        "id": "m09JGIIGlb5k",
        "outputId": "1bc287f7-2e7f-46fd-ef12-8505014abf96"
      },
      "source": [
        "#from google.colab import drive\n",
        "#drive.mount('/content/gdrive')"
      ],
      "execution_count": null,
      "outputs": [
        {
          "output_type": "stream",
          "text": [
            "Mounted at /content/gdrive\n"
          ],
          "name": "stdout"
        }
      ]
    },
    {
      "cell_type": "code",
      "metadata": {
        "id": "P7RP-U0EjRjr"
      },
      "source": [
        "data = pd.read_csv('gdrive/MyDrive/data/cover_data.csv')\n",
        "#print(data.shape[1])\n",
        "#print(data.describe,data.dtypes)\n",
        "#There are 55 columns including the class label which we want to predict.\n",
        "#So there are 54 sets of features and 1 set of labels.\n",
        "#All the data has type int64 so there is no need for get_dummies or similar.\n",
        "#The labels are discrete integers, so this is a classification problem."
      ],
      "execution_count": null,
      "outputs": []
    },
    {
      "cell_type": "code",
      "metadata": {
        "id": "ZW7RMdGMjXyD"
      },
      "source": [
        "my_features = data.iloc[:,0:-1]\n",
        "my_labels = data.iloc[:,-1]\n",
        "my_labels = my_labels - 1\n",
        "#This gives us our features and labels.\n",
        "#Need to take 1 away from every entry in order for to_categorical to generate the right number of one-hot encodings"
      ],
      "execution_count": null,
      "outputs": []
    },
    {
      "cell_type": "code",
      "metadata": {
        "id": "_9yX2LcrjX_x"
      },
      "source": [
        "features_train, features_test, labels_train, labels_test = train_test_split(my_features, my_labels, test_size = 0.2, random_state = 42)\n",
        "#Splitting and shuffling of features and labels into a 80/20 ratio."
      ],
      "execution_count": null,
      "outputs": []
    },
    {
      "cell_type": "code",
      "metadata": {
        "id": "5waUonjRjYIC"
      },
      "source": [
        "labels_train_1 = tf.keras.utils.to_categorical(labels_train, dtype = 'int64', num_classes = 7)\n",
        "labels_test_1 = tf.keras.utils.to_categorical(labels_test, dtype = 'int64', num_classes = 7)\n",
        "#Transforming the labels into categorical data."
      ],
      "execution_count": null,
      "outputs": []
    },
    {
      "cell_type": "code",
      "metadata": {
        "id": "7fP7aGIvjYLL"
      },
      "source": [
        "ct = ColumnTransformer([('normalize', StandardScaler(), my_features.columns)])\n",
        "features_train_norm = ct.fit_transform(features_train)\n",
        "features_test_norm = ct.transform(features_test)\n",
        "#Normalizing the features of the data."
      ],
      "execution_count": null,
      "outputs": []
    },
    {
      "cell_type": "code",
      "metadata": {
        "id": "1A-aK80MjYOC"
      },
      "source": [
        "features_train_norm_1 = pd.DataFrame(features_train_norm, columns = features_train.columns)\n",
        "features_test_norm_1 = pd.DataFrame(features_test_norm, columns = features_test.columns)\n",
        "#Converting the normalized data back into a pandas dataframe."
      ],
      "execution_count": null,
      "outputs": []
    },
    {
      "cell_type": "code",
      "metadata": {
        "id": "G9r_5WU6j9AV"
      },
      "source": [
        "model = Sequential()\n",
        "#Making the model.\n",
        "\n",
        "model.add(tf.keras.layers.InputLayer(input_shape=(my_features.shape[1],)))\n",
        "#Model input layer. Input shape corresponds to the number of features (columns) as opposed to rows.\n",
        "\n",
        "model.add(Dense(54, activation = 'relu'))\n",
        "model.add(Dense(54, activation = 'relu'))\n",
        "#Adding 2 hidden layers.\n",
        "\n",
        "model.add(Dense(7, activation = 'softmax'))\n",
        "#Final output layer. There are 7 labels to predict and the activation is softmax as this is a classification problem.\n",
        "\n",
        "opt = Adam(learning_rate = 0.001)\n",
        "loss_c = tf.keras.losses.CategoricalCrossentropy()\n",
        "\n",
        "model.compile(loss = loss_c, optimizer = opt, metrics = ['accuracy'] )\n",
        "#Compiling the model with appropriate arguments.\n",
        "\n",
        "stop = EarlyStopping(monitor = 'val_loss', mode = 'min', patience = 10)\n",
        "#Getting the model to stop early if it reaches a minimum befor the end of the epochs."
      ],
      "execution_count": null,
      "outputs": []
    },
    {
      "cell_type": "code",
      "metadata": {
        "colab": {
          "base_uri": "https://localhost:8080/"
        },
        "id": "BzgE8gWqj-bb",
        "outputId": "cd08e6aa-bcee-4620-d4ec-851dec6ae4eb"
      },
      "source": [
        "history = model.fit(features_train_norm_1, labels_train_1, epochs = 50, batch_size = 32, validation_split = 0.2, callbacks = [stop])\n",
        "#Fitting the model using 20% of the data as validation data."
      ],
      "execution_count": null,
      "outputs": [
        {
          "output_type": "stream",
          "text": [
            "Epoch 1/50\n",
            "11621/11621 [==============================] - 21s 2ms/step - loss: 0.5616 - accuracy: 0.7603 - val_loss: 0.4905 - val_accuracy: 0.7917\n",
            "Epoch 2/50\n",
            "11621/11621 [==============================] - 19s 2ms/step - loss: 0.4641 - accuracy: 0.8029 - val_loss: 0.4473 - val_accuracy: 0.8077\n",
            "Epoch 3/50\n",
            "11621/11621 [==============================] - 19s 2ms/step - loss: 0.4280 - accuracy: 0.8192 - val_loss: 0.4037 - val_accuracy: 0.8319\n",
            "Epoch 4/50\n",
            "11621/11621 [==============================] - 20s 2ms/step - loss: 0.4060 - accuracy: 0.8305 - val_loss: 0.3966 - val_accuracy: 0.8353\n",
            "Epoch 5/50\n",
            "11621/11621 [==============================] - 20s 2ms/step - loss: 0.3907 - accuracy: 0.8374 - val_loss: 0.3791 - val_accuracy: 0.8413\n",
            "Epoch 6/50\n",
            "11621/11621 [==============================] - 19s 2ms/step - loss: 0.3792 - accuracy: 0.8433 - val_loss: 0.3705 - val_accuracy: 0.8439\n",
            "Epoch 7/50\n",
            "11621/11621 [==============================] - 19s 2ms/step - loss: 0.3697 - accuracy: 0.8464 - val_loss: 0.3632 - val_accuracy: 0.8515\n",
            "Epoch 8/50\n",
            "11621/11621 [==============================] - 19s 2ms/step - loss: 0.3618 - accuracy: 0.8497 - val_loss: 0.3551 - val_accuracy: 0.8529\n",
            "Epoch 9/50\n",
            "11621/11621 [==============================] - 20s 2ms/step - loss: 0.3547 - accuracy: 0.8532 - val_loss: 0.3551 - val_accuracy: 0.8526\n",
            "Epoch 10/50\n",
            "11621/11621 [==============================] - 19s 2ms/step - loss: 0.3496 - accuracy: 0.8561 - val_loss: 0.3555 - val_accuracy: 0.8545\n",
            "Epoch 11/50\n",
            "11621/11621 [==============================] - 19s 2ms/step - loss: 0.3440 - accuracy: 0.8579 - val_loss: 0.3419 - val_accuracy: 0.8597\n",
            "Epoch 12/50\n",
            "11621/11621 [==============================] - 19s 2ms/step - loss: 0.3390 - accuracy: 0.8610 - val_loss: 0.3424 - val_accuracy: 0.8602\n",
            "Epoch 13/50\n",
            "11621/11621 [==============================] - 20s 2ms/step - loss: 0.3356 - accuracy: 0.8620 - val_loss: 0.3419 - val_accuracy: 0.8605\n",
            "Epoch 14/50\n",
            "11621/11621 [==============================] - 20s 2ms/step - loss: 0.3303 - accuracy: 0.8646 - val_loss: 0.3282 - val_accuracy: 0.8683\n",
            "Epoch 15/50\n",
            "11621/11621 [==============================] - 20s 2ms/step - loss: 0.3274 - accuracy: 0.8659 - val_loss: 0.3265 - val_accuracy: 0.8686\n",
            "Epoch 16/50\n",
            "11621/11621 [==============================] - 21s 2ms/step - loss: 0.3238 - accuracy: 0.8676 - val_loss: 0.3284 - val_accuracy: 0.8676\n",
            "Epoch 17/50\n",
            "11621/11621 [==============================] - 21s 2ms/step - loss: 0.3221 - accuracy: 0.8690 - val_loss: 0.3192 - val_accuracy: 0.8708\n",
            "Epoch 18/50\n",
            "11621/11621 [==============================] - 23s 2ms/step - loss: 0.3189 - accuracy: 0.8698 - val_loss: 0.3293 - val_accuracy: 0.8669\n",
            "Epoch 19/50\n",
            "11621/11621 [==============================] - 23s 2ms/step - loss: 0.3161 - accuracy: 0.8709 - val_loss: 0.3158 - val_accuracy: 0.8735\n",
            "Epoch 20/50\n",
            "11621/11621 [==============================] - 22s 2ms/step - loss: 0.3131 - accuracy: 0.8722 - val_loss: 0.3154 - val_accuracy: 0.8735\n",
            "Epoch 21/50\n",
            "11621/11621 [==============================] - 23s 2ms/step - loss: 0.3109 - accuracy: 0.8731 - val_loss: 0.3083 - val_accuracy: 0.8759\n",
            "Epoch 22/50\n",
            "11621/11621 [==============================] - 26s 2ms/step - loss: 0.3088 - accuracy: 0.8745 - val_loss: 0.3161 - val_accuracy: 0.8722\n",
            "Epoch 23/50\n",
            "11621/11621 [==============================] - 24s 2ms/step - loss: 0.3067 - accuracy: 0.8754 - val_loss: 0.3023 - val_accuracy: 0.8790\n",
            "Epoch 24/50\n",
            "11621/11621 [==============================] - 22s 2ms/step - loss: 0.3043 - accuracy: 0.8766 - val_loss: 0.3045 - val_accuracy: 0.8786\n",
            "Epoch 25/50\n",
            "11621/11621 [==============================] - 22s 2ms/step - loss: 0.3029 - accuracy: 0.8764 - val_loss: 0.3003 - val_accuracy: 0.8802\n",
            "Epoch 26/50\n",
            "11621/11621 [==============================] - 21s 2ms/step - loss: 0.3009 - accuracy: 0.8778 - val_loss: 0.3019 - val_accuracy: 0.8792\n",
            "Epoch 27/50\n",
            "11621/11621 [==============================] - 20s 2ms/step - loss: 0.2997 - accuracy: 0.8781 - val_loss: 0.3032 - val_accuracy: 0.8771\n",
            "Epoch 28/50\n",
            "11621/11621 [==============================] - 20s 2ms/step - loss: 0.2975 - accuracy: 0.8790 - val_loss: 0.3036 - val_accuracy: 0.8782\n",
            "Epoch 29/50\n",
            "11621/11621 [==============================] - 20s 2ms/step - loss: 0.2968 - accuracy: 0.8787 - val_loss: 0.3005 - val_accuracy: 0.8799\n",
            "Epoch 30/50\n",
            "11621/11621 [==============================] - 22s 2ms/step - loss: 0.2953 - accuracy: 0.8799 - val_loss: 0.2968 - val_accuracy: 0.8810\n",
            "Epoch 31/50\n",
            "11621/11621 [==============================] - 20s 2ms/step - loss: 0.2943 - accuracy: 0.8803 - val_loss: 0.2937 - val_accuracy: 0.8830\n",
            "Epoch 32/50\n",
            "11621/11621 [==============================] - 20s 2ms/step - loss: 0.2929 - accuracy: 0.8808 - val_loss: 0.2974 - val_accuracy: 0.8814\n",
            "Epoch 33/50\n",
            "11621/11621 [==============================] - 20s 2ms/step - loss: 0.2917 - accuracy: 0.8815 - val_loss: 0.2975 - val_accuracy: 0.8804\n",
            "Epoch 34/50\n",
            "11621/11621 [==============================] - 20s 2ms/step - loss: 0.2904 - accuracy: 0.8812 - val_loss: 0.2892 - val_accuracy: 0.8832\n",
            "Epoch 35/50\n",
            "11621/11621 [==============================] - 20s 2ms/step - loss: 0.2899 - accuracy: 0.8818 - val_loss: 0.2943 - val_accuracy: 0.8820\n",
            "Epoch 36/50\n",
            "11621/11621 [==============================] - 21s 2ms/step - loss: 0.2888 - accuracy: 0.8824 - val_loss: 0.3037 - val_accuracy: 0.8767\n",
            "Epoch 37/50\n",
            "11621/11621 [==============================] - 21s 2ms/step - loss: 0.2883 - accuracy: 0.8824 - val_loss: 0.2855 - val_accuracy: 0.8855\n",
            "Epoch 38/50\n",
            "11621/11621 [==============================] - 21s 2ms/step - loss: 0.2871 - accuracy: 0.8834 - val_loss: 0.2921 - val_accuracy: 0.8829\n",
            "Epoch 39/50\n",
            "11621/11621 [==============================] - 22s 2ms/step - loss: 0.2861 - accuracy: 0.8833 - val_loss: 0.2854 - val_accuracy: 0.8856\n",
            "Epoch 40/50\n",
            "11621/11621 [==============================] - 20s 2ms/step - loss: 0.2850 - accuracy: 0.8840 - val_loss: 0.2859 - val_accuracy: 0.8843\n",
            "Epoch 41/50\n",
            "11621/11621 [==============================] - 21s 2ms/step - loss: 0.2839 - accuracy: 0.8838 - val_loss: 0.2851 - val_accuracy: 0.8865\n",
            "Epoch 42/50\n",
            "11621/11621 [==============================] - 21s 2ms/step - loss: 0.2836 - accuracy: 0.8844 - val_loss: 0.2919 - val_accuracy: 0.8843\n",
            "Epoch 43/50\n",
            "11621/11621 [==============================] - 21s 2ms/step - loss: 0.2832 - accuracy: 0.8845 - val_loss: 0.2902 - val_accuracy: 0.8854\n",
            "Epoch 44/50\n",
            "11621/11621 [==============================] - 21s 2ms/step - loss: 0.2814 - accuracy: 0.8861 - val_loss: 0.2841 - val_accuracy: 0.8866\n",
            "Epoch 45/50\n",
            "11621/11621 [==============================] - 21s 2ms/step - loss: 0.2825 - accuracy: 0.8850 - val_loss: 0.2830 - val_accuracy: 0.8855\n",
            "Epoch 46/50\n",
            "11621/11621 [==============================] - 22s 2ms/step - loss: 0.2805 - accuracy: 0.8860 - val_loss: 0.2927 - val_accuracy: 0.8860\n",
            "Epoch 47/50\n",
            "11621/11621 [==============================] - 22s 2ms/step - loss: 0.2801 - accuracy: 0.8862 - val_loss: 0.2832 - val_accuracy: 0.8870\n",
            "Epoch 48/50\n",
            "11621/11621 [==============================] - 21s 2ms/step - loss: 0.2796 - accuracy: 0.8863 - val_loss: 0.2933 - val_accuracy: 0.8818\n",
            "Epoch 49/50\n",
            "11621/11621 [==============================] - 20s 2ms/step - loss: 0.2790 - accuracy: 0.8863 - val_loss: 0.2850 - val_accuracy: 0.8843\n",
            "Epoch 50/50\n",
            "11621/11621 [==============================] - 19s 2ms/step - loss: 0.2782 - accuracy: 0.8868 - val_loss: 0.2832 - val_accuracy: 0.8874\n"
          ],
          "name": "stdout"
        }
      ]
    },
    {
      "cell_type": "code",
      "metadata": {
        "colab": {
          "base_uri": "https://localhost:8080/"
        },
        "id": "oLaqIpLKkDKe",
        "outputId": "fda63355-cc8f-443d-ec1c-9dbbc281b6c5"
      },
      "source": [
        "loss, acc = model.evaluate(features_test_norm_1, labels_test_1, verbose = 0)\n",
        "print(loss,acc)\n",
        "#Final values of loss and accuracy on the test set."
      ],
      "execution_count": null,
      "outputs": [
        {
          "output_type": "stream",
          "text": [
            "0.285286545753479 0.8843661546707153\n"
          ],
          "name": "stdout"
        }
      ]
    },
    {
      "cell_type": "code",
      "metadata": {
        "colab": {
          "base_uri": "https://localhost:8080/",
          "height": 599
        },
        "id": "UpWmhp40kGLM",
        "outputId": "b97113c6-4be5-4413-ae1b-cef9c4642bc8"
      },
      "source": [
        "plt.plot(history.history['loss'], label = 'loss')\n",
        "plt.plot(history.history['val_loss'], label = 'val_loss')\n",
        "plt.suptitle(\"Model performance in terms of loss\")\n",
        "plt.xlabel(\"epoch\")\n",
        "plt.ylabel(\"Loss\")\n",
        "plt.legend()\n",
        "plt.show()\n",
        "#Plot of the loss throughout the training.\n",
        "\n",
        "plt.plot(history.history['accuracy'], label = 'accuracy')\n",
        "plt.plot(history.history['val_accuracy'], label = 'val_accuracy')\n",
        "plt.suptitle(\"Model performance in terms of accuracy\")\n",
        "plt.xlabel(\"epoch\")\n",
        "plt.ylabel(\"Accuracy\")\n",
        "plt.legend()\n",
        "plt.show()\n",
        "#Plot of the accuracy throughout the training."
      ],
      "execution_count": null,
      "outputs": [
        {
          "output_type": "display_data",
          "data": {
            "image/png": "[encoded data removed]",
            "text/plain": [
              "<Figure size 432x288 with 1 Axes>"
            ]
          },
          "metadata": {
            "tags": [],
            "needs_background": "light"
          }
        },
        {
          "output_type": "display_data",
          "data": {
            "image/png": "[encoded data removed]",
            "text/plain": [
              "<Figure size 432x288 with 1 Axes>"
            ]
          },
          "metadata": {
            "tags": [],
            "needs_background": "light"
          }
        }
      ]
    },
    {
      "cell_type": "code",
      "metadata": {
        "colab": {
          "base_uri": "https://localhost:8080/"
        },
        "id": "jJGV7y3okOP0",
        "outputId": "9ae22f9b-c329-412d-f745-6b2e4a79359c"
      },
      "source": [
        "Y_pred = model.predict(features_test_norm)\n",
        "y_pred = np.argmax(Y_pred, axis=1)\n",
        "cm = confusion_matrix(labels_test, y_pred)\n",
        "print(cm)\n",
        "#A printout of the confusion matrix."
      ],
      "execution_count": null,
      "outputs": [
        {
          "output_type": "stream",
          "text": [
            "[[37739  4382     7     0    24     8   397]\n",
            " [ 4829 51202   130     1   178   113    47]\n",
            " [    7   391  6281   106    28   308     0]\n",
            " [    0     0    89   401     0    36     0]\n",
            " [   86   797    33     0  1067    12     0]\n",
            " [   11   332   688    34     5  2419     0]\n",
            " [  283    74     0     0     1     0  3657]]\n"
          ],
          "name": "stdout"
        }
      ]
    },
    {
      "cell_type": "code",
      "metadata": {
        "colab": {
          "base_uri": "https://localhost:8080/"
        },
        "id": "7jYfjpiHlQbO",
        "outputId": "f66f5297-6220-4e01-b67a-abdb8924108e"
      },
      "source": [
        "print(classification_report(labels_test, y_pred))\n",
        "#Precision, recall, and f1 scores for each class."
      ],
      "execution_count": null,
      "outputs": [
        {
          "output_type": "stream",
          "text": [
            "              precision    recall  f1-score   support\n",
            "\n",
            "           0       0.88      0.89      0.88     42557\n",
            "           1       0.90      0.91      0.90     56500\n",
            "           2       0.87      0.88      0.88      7121\n",
            "           3       0.74      0.76      0.75       526\n",
            "           4       0.82      0.53      0.65      1995\n",
            "           5       0.84      0.69      0.76      3489\n",
            "           6       0.89      0.91      0.90      4015\n",
            "\n",
            "    accuracy                           0.88    116203\n",
            "   macro avg       0.85      0.80      0.82    116203\n",
            "weighted avg       0.88      0.88      0.88    116203\n",
            "\n"
          ],
          "name": "stdout"
        }
      ]
    }
  ]
}